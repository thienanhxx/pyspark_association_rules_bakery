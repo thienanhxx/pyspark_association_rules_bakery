{
 "cells": [
  {
   "cell_type": "code",
   "execution_count": 1,
   "id": "550292a0-d342-495a-a1eb-a4045eb88144",
   "metadata": {},
   "outputs": [],
   "source": [
    "import findspark\n",
    "findspark.init()"
   ]
  },
  {
   "cell_type": "code",
   "execution_count": 2,
   "id": "8d684e22-4e44-48ee-872d-113f7472cf3f",
   "metadata": {},
   "outputs": [],
   "source": [
    "from pyspark.sql import SparkSession\n",
    "from pyspark import SparkContext\n",
    "from pyspark.sql import SQLContext"
   ]
  },
  {
   "cell_type": "code",
   "execution_count": 3,
   "id": "0ab98496-ccf4-4a5d-a699-96d1aff64bb4",
   "metadata": {},
   "outputs": [],
   "source": [
    "sc = SparkContext()"
   ]
  },
  {
   "cell_type": "code",
   "execution_count": 4,
   "id": "379cac25-5193-4d87-a1dd-d5d761b90873",
   "metadata": {},
   "outputs": [],
   "source": [
    "spark = SparkSession(sc)"
   ]
  },
  {
   "cell_type": "markdown",
   "id": "9d138eaf-6cfa-4ae3-963e-488bda94ea0d",
   "metadata": {},
   "source": [
    "### Read the dataset"
   ]
  },
  {
   "cell_type": "code",
   "execution_count": 5,
   "id": "d3891563-0f81-496f-ac4f-acaa0e1844b6",
   "metadata": {},
   "outputs": [],
   "source": [
    "data = spark.read.csv('Du_lieu_cung_cap/75000/75000i.csv')"
   ]
  },
  {
   "cell_type": "code",
   "execution_count": 6,
   "id": "51dcaa6a-2cd8-488c-9612-f51970bd8c6b",
   "metadata": {},
   "outputs": [
    {
     "name": "stdout",
     "output_type": "stream",
     "text": [
      "+---+---+---+\n",
      "|_c0|_c1|_c2|\n",
      "+---+---+---+\n",
      "|  1|  1| 21|\n",
      "|  1|  5| 11|\n",
      "|  2|  1|  7|\n",
      "|  2|  3| 11|\n",
      "|  2|  4| 37|\n",
      "|  2|  3| 45|\n",
      "|  3|  5|  3|\n",
      "|  3|  3| 42|\n",
      "|  3|  3| 33|\n",
      "|  4|  1|  5|\n",
      "+---+---+---+\n",
      "only showing top 10 rows\n",
      "\n"
     ]
    }
   ],
   "source": [
    "data.show(10)"
   ]
  },
  {
   "cell_type": "code",
   "execution_count": 7,
   "id": "c6818a76-ecc7-47ec-9683-220ec756825e",
   "metadata": {},
   "outputs": [],
   "source": [
    "data = (data\n",
    "        .withColumnRenamed('_c0', 'order_id')\n",
    "        .withColumnRenamed('_c1', 'quantity')\n",
    "        .withColumnRenamed('_c2', 'product_id')\n",
    "       )"
   ]
  },
  {
   "cell_type": "code",
   "execution_count": 8,
   "id": "515d040f-600b-46eb-b73b-aab33640151a",
   "metadata": {},
   "outputs": [
    {
     "name": "stdout",
     "output_type": "stream",
     "text": [
      "+--------+--------+----------+\n",
      "|order_id|quantity|product_id|\n",
      "+--------+--------+----------+\n",
      "|       1|       1|        21|\n",
      "|       1|       5|        11|\n",
      "|       2|       1|         7|\n",
      "|       2|       3|        11|\n",
      "|       2|       4|        37|\n",
      "|       2|       3|        45|\n",
      "|       3|       5|         3|\n",
      "|       3|       3|        42|\n",
      "|       3|       3|        33|\n",
      "|       4|       1|         5|\n",
      "+--------+--------+----------+\n",
      "only showing top 10 rows\n",
      "\n"
     ]
    }
   ],
   "source": [
    "data.show(10)"
   ]
  },
  {
   "cell_type": "code",
   "execution_count": 9,
   "id": "25d76801-d865-492a-9497-f6c55533b20a",
   "metadata": {},
   "outputs": [
    {
     "data": {
      "text/plain": [
       "266209"
      ]
     },
     "execution_count": 9,
     "metadata": {},
     "output_type": "execute_result"
    }
   ],
   "source": [
    "data.count()"
   ]
  },
  {
   "cell_type": "code",
   "execution_count": 10,
   "id": "32a89b3a-d2c7-44ac-8554-1ded1529d33f",
   "metadata": {},
   "outputs": [
    {
     "name": "stdout",
     "output_type": "stream",
     "text": [
      "+-------+------------------+------------------+------------------+\n",
      "|summary|          order_id|          quantity|        product_id|\n",
      "+-------+------------------+------------------+------------------+\n",
      "|  count|            266209|            266209|            266209|\n",
      "|   mean|37506.447599442545|3.0004620429812667| 24.28233455668291|\n",
      "| stddev|21665.459090368462|1.4135532622940965|14.771318203617861|\n",
      "|    min|                 1|                 1|                 0|\n",
      "|    max|              9999|                 5|                 9|\n",
      "+-------+------------------+------------------+------------------+\n",
      "\n"
     ]
    }
   ],
   "source": [
    "data.describe().show()"
   ]
  },
  {
   "cell_type": "markdown",
   "id": "1da602ba-ec29-45b2-b90f-3ad2b00813e4",
   "metadata": {},
   "source": [
    "### Build model"
   ]
  },
  {
   "cell_type": "code",
   "execution_count": 11,
   "id": "3952cc59-7d4b-4a41-83fa-03b291eec8aa",
   "metadata": {},
   "outputs": [],
   "source": [
    "from pyspark.ml.fpm import FPGrowth"
   ]
  },
  {
   "cell_type": "code",
   "execution_count": 12,
   "id": "bdf61165-4bfe-425b-a0d7-b6027e3b8973",
   "metadata": {},
   "outputs": [],
   "source": [
    "# Pre-processing data\n",
    "from pyspark.sql.functions import collect_list, col, count, collect_set\n",
    "# Convert list array to string\n",
    "from pyspark.sql.types import StringType"
   ]
  },
  {
   "cell_type": "code",
   "execution_count": 13,
   "id": "f4b512b7-1a55-4ccc-80fc-1e936f909d72",
   "metadata": {},
   "outputs": [],
   "source": [
    "data.createOrReplaceTempView('order_products_train')"
   ]
  },
  {
   "cell_type": "code",
   "execution_count": 14,
   "id": "1bf5a273-7541-4437-93ed-4ae4477a7b9b",
   "metadata": {},
   "outputs": [
    {
     "data": {
      "text/plain": [
       "50"
      ]
     },
     "execution_count": 14,
     "metadata": {},
     "output_type": "execute_result"
    }
   ],
   "source": [
    "products = spark.sql('select distinct product_id from order_products_train')\n",
    "products.count()"
   ]
  },
  {
   "cell_type": "code",
   "execution_count": 15,
   "id": "1aba1a18-1e89-4436-84bb-825e1d78ea85",
   "metadata": {},
   "outputs": [],
   "source": [
    "rawData = spark.sql('select * from order_products_train')\n",
    "baskets = rawData.groupBy('order_id').agg(collect_set('product_id').alias('items'))\n",
    "baskets.createOrReplaceTempView('baskets')"
   ]
  },
  {
   "cell_type": "code",
   "execution_count": 16,
   "id": "839015af-a60d-45ed-8b0d-292ea2c8c6ef",
   "metadata": {},
   "outputs": [
    {
     "name": "stdout",
     "output_type": "stream",
     "text": [
      "+--------+--------------------+\n",
      "|order_id|items               |\n",
      "+--------+--------------------+\n",
      "|100     |[42, 33]            |\n",
      "|10000   |[46, 2, 0]          |\n",
      "|10001   |[44, 27, 32, 14, 48]|\n",
      "|10009   |[25, 22, 43]        |\n",
      "|10010   |[17, 29, 47, 19]    |\n",
      "+--------+--------------------+\n",
      "only showing top 5 rows\n",
      "\n"
     ]
    }
   ],
   "source": [
    "baskets.show(5, truncate=False)"
   ]
  },
  {
   "cell_type": "code",
   "execution_count": 17,
   "id": "46cd65dc-aaf2-4dda-902a-3ad53e343849",
   "metadata": {},
   "outputs": [
    {
     "data": {
      "text/plain": [
       "pyspark.sql.dataframe.DataFrame"
      ]
     },
     "execution_count": 17,
     "metadata": {},
     "output_type": "execute_result"
    }
   ],
   "source": [
    "type(baskets)"
   ]
  },
  {
   "cell_type": "code",
   "execution_count": 18,
   "id": "0ff905ba-ec5f-4efe-a688-6361f4dda57e",
   "metadata": {},
   "outputs": [],
   "source": [
    "FpGrowth = FPGrowth(itemsCol='items', minSupport=0.005, minConfidence=0.03)\n",
    "model = FpGrowth.fit(baskets)"
   ]
  },
  {
   "cell_type": "code",
   "execution_count": 19,
   "id": "1f902a7f-f330-41fe-b819-29c3f4255c76",
   "metadata": {},
   "outputs": [
    {
     "name": "stdout",
     "output_type": "stream",
     "text": [
      "+------------+----+\n",
      "|       items|freq|\n",
      "+------------+----+\n",
      "|        [26]|3179|\n",
      "|        [40]|5118|\n",
      "|        [43]|4685|\n",
      "|    [43, 41]|1719|\n",
      "|[43, 41, 24]|1570|\n",
      "+------------+----+\n",
      "only showing top 5 rows\n",
      "\n"
     ]
    }
   ],
   "source": [
    "# Display frequent items\n",
    "model.freqItemsets.show(5)"
   ]
  },
  {
   "cell_type": "code",
   "execution_count": 20,
   "id": "5d1bf189-b628-45ef-8046-910c90af98c2",
   "metadata": {},
   "outputs": [],
   "source": [
    "# transform examines the input items against all the association rules and summarize the consequents as prediction\n",
    "mostPopularItemInABasket = model.transform(baskets)"
   ]
  },
  {
   "cell_type": "code",
   "execution_count": 21,
   "id": "4b1951ca-5915-4c69-8a23-3bff96a4a309",
   "metadata": {},
   "outputs": [
    {
     "name": "stdout",
     "output_type": "stream",
     "text": [
      "-RECORD 0----------------------------------------------------------\n",
      " order_id   | 100                                                  \n",
      " items      | [42, 33]                                             \n",
      " prediction | [27, 28, 5, 14, 35, 4, 18, 44, 22, 32, 47, 19, 1]    \n",
      "-RECORD 1----------------------------------------------------------\n",
      " order_id   | 10000                                                \n",
      " items      | [46, 2, 0]                                           \n",
      " prediction | [28]                                                 \n",
      "-RECORD 2----------------------------------------------------------\n",
      " order_id   | 10001                                                \n",
      " items      | [44, 27, 32, 14, 48]                                 \n",
      " prediction | [9, 33, 28, 4, 22, 42, 1, 45, 16, 31, 12, 36, 18, 5] \n",
      "only showing top 3 rows\n",
      "\n"
     ]
    }
   ],
   "source": [
    "mostPopularItemInABasket.show(3, truncate=False, vertical=True)"
   ]
  },
  {
   "cell_type": "markdown",
   "id": "03497851-c6db-4183-85c3-4247b96c2b39",
   "metadata": {},
   "source": [
    "### Use product_name instead of product_id"
   ]
  },
  {
   "cell_type": "code",
   "execution_count": 22,
   "id": "ac08e126-06a1-4782-bb1b-49cddad90cac",
   "metadata": {},
   "outputs": [],
   "source": [
    "product_data = spark.read.csv('Du_lieu_cung_cap/75000/goods.csv', header=True,\n",
    "                      inferSchema=True)"
   ]
  },
  {
   "cell_type": "code",
   "execution_count": 23,
   "id": "fdbf58da-74b6-46b8-a755-2ad3e42ccd20",
   "metadata": {},
   "outputs": [
    {
     "name": "stdout",
     "output_type": "stream",
     "text": [
      "+---+------------+------+-----+------+\n",
      "|Id |Flavor      |Food  |Price|Type  |\n",
      "+---+------------+------+-----+------+\n",
      "|0  |'Chocolate' |'Cake'|8.95 |'Food'|\n",
      "|1  |'Lemon'     |'Cake'|8.95 |'Food'|\n",
      "|2  |'Casino'    |'Cake'|15.95|'Food'|\n",
      "|3  |'Opera'     |'Cake'|15.95|'Food'|\n",
      "|4  |'Strawberry'|'Cake'|11.95|'Food'|\n",
      "+---+------------+------+-----+------+\n",
      "only showing top 5 rows\n",
      "\n"
     ]
    }
   ],
   "source": [
    "product_data.show(5, truncate=False)"
   ]
  },
  {
   "cell_type": "code",
   "execution_count": 24,
   "id": "16f82b90-170c-422f-a889-94331a19caf4",
   "metadata": {},
   "outputs": [],
   "source": [
    "from pyspark.sql import functions as F"
   ]
  },
  {
   "cell_type": "code",
   "execution_count": 25,
   "id": "ba7bd042-ea41-425c-a0cd-97170140aa95",
   "metadata": {},
   "outputs": [
    {
     "name": "stdout",
     "output_type": "stream",
     "text": [
      "+---+-------------------+-----+------+\n",
      "|Id |Flavor_and_Food    |Price|Type  |\n",
      "+---+-------------------+-----+------+\n",
      "|0  |'Chocolate' 'Cake' |8.95 |'Food'|\n",
      "|1  |'Lemon' 'Cake'     |8.95 |'Food'|\n",
      "|2  |'Casino' 'Cake'    |15.95|'Food'|\n",
      "|3  |'Opera' 'Cake'     |15.95|'Food'|\n",
      "|4  |'Strawberry' 'Cake'|11.95|'Food'|\n",
      "+---+-------------------+-----+------+\n",
      "only showing top 5 rows\n",
      "\n"
     ]
    }
   ],
   "source": [
    "# Concate column Flavor and Food into Flavor_and_Food\n",
    "product_data = product_data.withColumn('Flavor_and_Food', \n",
    "                    F.concat(F.col('Flavor'),F.lit(' '), F.col('Food')))\n",
    "product_data = product_data.select('Id', 'Flavor_and_Food', 'Price', 'Type')\n",
    "product_data.show(5, truncate=False)"
   ]
  },
  {
   "cell_type": "code",
   "execution_count": 26,
   "id": "6ba765f2-7cc6-419a-bc48-a452aa026431",
   "metadata": {},
   "outputs": [
    {
     "name": "stdout",
     "output_type": "stream",
     "text": [
      "+---+----------------+-----+------+\n",
      "| Id| Flavor_and_Food|Price|  Type|\n",
      "+---+----------------+-----+------+\n",
      "|  0|  Chocolate Cake| 8.95|'Food'|\n",
      "|  1|      Lemon Cake| 8.95|'Food'|\n",
      "|  2|     Casino Cake|15.95|'Food'|\n",
      "|  3|      Opera Cake|15.95|'Food'|\n",
      "|  4| Strawberry Cake|11.95|'Food'|\n",
      "|  5|    Truffle Cake|15.95|'Food'|\n",
      "|  6|Chocolate Eclair| 3.25|'Food'|\n",
      "|  7|   Coffee Eclair|  3.5|'Food'|\n",
      "|  8|  Vanilla Eclair| 3.25|'Food'|\n",
      "|  9|   Napoleon Cake|13.49|'Food'|\n",
      "| 10|     Almond Tart| 3.75|'Food'|\n",
      "| 11|       Apple Pie| 5.25|'Food'|\n",
      "| 12|      Apple Tart| 3.25|'Food'|\n",
      "| 13|    Apricot Tart| 3.25|'Food'|\n",
      "| 14|      Berry Tart| 3.25|'Food'|\n",
      "| 15| Blackberry Tart| 3.25|'Food'|\n",
      "| 16|  Blueberry Tart| 3.25|'Food'|\n",
      "| 17|  Chocolate Tart| 3.75|'Food'|\n",
      "| 18|     Cherry Tart| 3.25|'Food'|\n",
      "| 19|      Lemon Tart| 3.25|'Food'|\n",
      "+---+----------------+-----+------+\n",
      "only showing top 20 rows\n",
      "\n"
     ]
    }
   ],
   "source": [
    "product_data = product_data.withColumn('Flavor_and_Food', F.regexp_replace('Flavor_and_Food', \"\\'\", ''))\n",
    "product_data.show()"
   ]
  },
  {
   "cell_type": "code",
   "execution_count": 27,
   "id": "e139da49-c4b7-43eb-b0ff-9fa1fc3222e3",
   "metadata": {},
   "outputs": [],
   "source": [
    "product_data.createOrReplaceTempView('products')"
   ]
  },
  {
   "cell_type": "code",
   "execution_count": 28,
   "id": "231ca101-2fc9-4e86-a862-e1d35e97f987",
   "metadata": {},
   "outputs": [],
   "source": [
    "query = \"select p.Flavor_and_Food, o.order_id from products p inner join order_products_train o where o.product_id = p.Id\"\n",
    "rawData_1 = spark.sql(query)\n",
    "baskets_1 = rawData_1.groupBy('order_id').agg(collect_set('Flavor_and_Food').alias('items'))\n",
    "baskets_1.createOrReplaceTempView('baskets1')"
   ]
  },
  {
   "cell_type": "code",
   "execution_count": 29,
   "id": "201a90a8-8d83-4bb2-835e-5e3742e3fc86",
   "metadata": {},
   "outputs": [
    {
     "data": {
      "text/plain": [
       "[Row(order_id='10000', items=['Casino Cake', 'Chocolate Coffee', 'Chocolate Cake']),\n",
       " Row(order_id='10009', items=['Gongolais Cookie', 'Green Tea', 'Chocolate Meringue']),\n",
       " Row(order_id='10010', items=['Vanilla Frappuccino', 'Walnut Cookie', 'Chocolate Tart', 'Lemon Tart'])]"
      ]
     },
     "execution_count": 29,
     "metadata": {},
     "output_type": "execute_result"
    }
   ],
   "source": [
    "baskets_1.head(3)"
   ]
  },
  {
   "cell_type": "code",
   "execution_count": 30,
   "id": "df4bb93f-745e-4960-a7cb-f5f04016f22a",
   "metadata": {},
   "outputs": [],
   "source": [
    "FpGrowth_1 = FPGrowth(itemsCol='items', minSupport=0.005, minConfidence=0.03)\n",
    "model_1 = FpGrowth_1.fit(baskets_1)"
   ]
  },
  {
   "cell_type": "code",
   "execution_count": 31,
   "id": "a545295b-ce64-4490-bac2-cbc769090fa7",
   "metadata": {},
   "outputs": [
    {
     "name": "stdout",
     "output_type": "stream",
     "text": [
      "+--------------------------------------------------+----+\n",
      "|items                                             |freq|\n",
      "+--------------------------------------------------+----+\n",
      "|[Raspberry Lemonade]                              |5081|\n",
      "|[Raspberry Lemonade, Lemon Cookie]                |2087|\n",
      "|[Raspberry Lemonade, Lemon Cookie, Lemon Lemonade]|1922|\n",
      "|[Raspberry Lemonade, Lemon Lemonade]              |2088|\n",
      "|[Marzipan Cookie]                                 |6733|\n",
      "|[Marzipan Cookie, Tuile Cookie]                   |3819|\n",
      "|[Marzipan Cookie, Strawberry Cake]                |409 |\n",
      "|[Marzipan Cookie, Gongolais Cookie]               |420 |\n",
      "|[Marzipan Cookie, Orange Juice]                   |387 |\n",
      "|[Almond Bear Claw]                                |3183|\n",
      "|[Almond Twist]                                    |5790|\n",
      "|[Almond Twist, Hot Coffee]                        |2319|\n",
      "|[Almond Twist, Hot Coffee, Coffee Eclair]         |2109|\n",
      "|[Almond Twist, Coffee Eclair]                     |2784|\n",
      "|[Ganache Cookie]                                  |3243|\n",
      "|[Strawberry Cake]                                 |6948|\n",
      "|[Strawberry Cake, Tuile Cookie]                   |465 |\n",
      "|[Strawberry Cake, Cherry Tart]                    |402 |\n",
      "|[Strawberry Cake, Coffee Eclair]                  |378 |\n",
      "|[Truffle Cake]                                    |6168|\n",
      "+--------------------------------------------------+----+\n",
      "only showing top 20 rows\n",
      "\n"
     ]
    }
   ],
   "source": [
    "# Display frequent itemsets\n",
    "model_1.freqItemsets.show(truncate=False)"
   ]
  },
  {
   "cell_type": "code",
   "execution_count": 32,
   "id": "f4db8bcb-396a-4693-bafa-3ccda3bf1650",
   "metadata": {},
   "outputs": [],
   "source": [
    "# transform examines the input items against all the association rules and summarize the consequents as prediction\n",
    "mostPopularItemInABasket_1 = model_1.transform(baskets_1)"
   ]
  },
  {
   "cell_type": "code",
   "execution_count": 33,
   "id": "158ec471-9713-4e08-a694-8d668aba2614",
   "metadata": {},
   "outputs": [
    {
     "name": "stdout",
     "output_type": "stream",
     "text": [
      "-RECORD 0---------------------------------------------------------------------------------------------------------------------------------------------------------------------------------------------\n",
      " order_id   | 10000                                                                                                                                                                                   \n",
      " items      | [Casino Cake, Chocolate Coffee, Chocolate Cake]                                                                                                                                         \n",
      " prediction | [Tuile Cookie]                                                                                                                                                                          \n",
      "-RECORD 1---------------------------------------------------------------------------------------------------------------------------------------------------------------------------------------------\n",
      " order_id   | 10009                                                                                                                                                                                   \n",
      " items      | [Gongolais Cookie, Green Tea, Chocolate Meringue]                                                                                                                                       \n",
      " prediction | [Marzipan Cookie, Truffle Cake, Berry Tart, Lemon Cake, Tuile Cookie, Strawberry Cake, Orange Juice, Napoleon Cake, Raspberry Lemonade, Lemon Cookie, Raspberry Cookie, Lemon Lemonade] \n",
      "-RECORD 2---------------------------------------------------------------------------------------------------------------------------------------------------------------------------------------------\n",
      " order_id   | 10010                                                                                                                                                                                   \n",
      " items      | [Vanilla Frappuccino, Walnut Cookie, Chocolate Tart, Lemon Tart]                                                                                                                        \n",
      " prediction | [Lemon Cake, Tuile Cookie, Strawberry Cake, Orange Juice, Napoleon Cake]                                                                                                                \n",
      "only showing top 3 rows\n",
      "\n"
     ]
    }
   ],
   "source": [
    "mostPopularItemInABasket_1.show(3, truncate=False, vertical=True)"
   ]
  },
  {
   "cell_type": "markdown",
   "id": "4cf731a8-01f2-4295-b612-4419a3e41d29",
   "metadata": {},
   "source": [
    "- As we can see with the most popular items in the baskets, if you bought cake/coffee/tea you would most likely to buy another type of cake/croissant/cookie/tart or juice/lemonade"
   ]
  }
 ],
 "metadata": {
  "kernelspec": {
   "display_name": "Python 3 (ipykernel)",
   "language": "python",
   "name": "python3"
  },
  "language_info": {
   "codemirror_mode": {
    "name": "ipython",
    "version": 3
   },
   "file_extension": ".py",
   "mimetype": "text/x-python",
   "name": "python",
   "nbconvert_exporter": "python",
   "pygments_lexer": "ipython3",
   "version": "3.8.9"
  }
 },
 "nbformat": 4,
 "nbformat_minor": 5
}
